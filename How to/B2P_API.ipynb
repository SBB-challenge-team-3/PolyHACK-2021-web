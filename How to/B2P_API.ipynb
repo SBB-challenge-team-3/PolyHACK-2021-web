{
  "nbformat": 4,
  "nbformat_minor": 0,
  "metadata": {
    "colab": {
      "name": "B2P API.ipynb",
      "provenance": [],
      "authorship_tag": "ABX9TyPu7tqYoB0lIoaKINd69/Z8",
      "include_colab_link": true
    },
    "kernelspec": {
      "name": "python3",
      "display_name": "Python 3"
    },
    "language_info": {
      "name": "python"
    }
  },
  "cells": [
    {
      "cell_type": "markdown",
      "metadata": {
        "id": "view-in-github",
        "colab_type": "text"
      },
      "source": [
        "<a href=\"https://colab.research.google.com/github/SBB-challenge-team-3/PolyHACK-2021/blob/main/How%20to/B2P_API.ipynb\" target=\"_parent\"><img src=\"https://colab.research.google.com/assets/colab-badge.svg\" alt=\"Open In Colab\"/></a>"
      ]
    },
    {
      "cell_type": "markdown",
      "metadata": {
        "id": "5y0qaZL6OtEU"
      },
      "source": [
        "This should describe how to retrieve data from the SBB B2P API\n"
      ]
    },
    {
      "cell_type": "code",
      "metadata": {
        "id": "wqXmagLiPGIO"
      },
      "source": [
        "#inport requests, uuid and json\n",
        "import requests\n",
        "import uuid\n",
        "import json"
      ],
      "execution_count": 35,
      "outputs": []
    },
    {
      "cell_type": "code",
      "metadata": {
        "id": "iV2crSJVHNFa"
      },
      "source": [
        "token_query = {\n",
        "  'grant_type': 'client_credentials',\n",
        "  'client_id': 'af929f08',\n",
        "  'client_secret': 'ae61e214f679558c28678d5c638c5725'\n",
        "}\n",
        "\n",
        "response = requests.post('https://sso-int.sbb.ch/auth/realms/SBB_Public/protocol/openid-connect/token', data=token_query).json()\n",
        "\n",
        "token = response[\"access_token\"]"
      ],
      "execution_count": 17,
      "outputs": []
    },
    {
      "cell_type": "code",
      "metadata": {
        "id": "ISFL9Tr7Jilf"
      },
      "source": [
        ""
      ],
      "execution_count": null,
      "outputs": []
    }
  ]
}