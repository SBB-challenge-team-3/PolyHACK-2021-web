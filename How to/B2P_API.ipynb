{
  "nbformat": 4,
  "nbformat_minor": 0,
  "metadata": {
    "colab": {
      "name": "B2P API.ipynb",
      "provenance": [],
      "authorship_tag": "ABX9TyPlNBkkJTXSJ+EEjQPcp8xh",
      "include_colab_link": true
    },
    "kernelspec": {
      "name": "python3",
      "display_name": "Python 3"
    },
    "language_info": {
      "name": "python"
    }
  },
  "cells": [
    {
      "cell_type": "markdown",
      "metadata": {
        "id": "view-in-github",
        "colab_type": "text"
      },
      "source": [
        "<a href=\"https://colab.research.google.com/github/SBB-challenge-team-3/PolyHACK-2021/blob/main/How%20to/B2P_API.ipynb\" target=\"_parent\"><img src=\"https://colab.research.google.com/assets/colab-badge.svg\" alt=\"Open In Colab\"/></a>"
      ]
    },
    {
      "cell_type": "markdown",
      "metadata": {
        "id": "5y0qaZL6OtEU"
      },
      "source": [
        "This should describe how to retrieve data from the SBB B2P API\n"
      ]
    },
    {
      "cell_type": "code",
      "metadata": {
        "id": "wqXmagLiPGIO"
      },
      "source": [
        "#inport requests, uuid and json\n",
        "import requests\n",
        "import uuid\n",
        "import json"
      ],
      "execution_count": null,
      "outputs": []
    },
    {
      "cell_type": "code",
      "metadata": {
        "id": "iV2crSJVHNFa"
      },
      "source": [
        "token_query = {\n",
        "  'grant_type': 'client_credentials',\n",
        "  'client_id': 'af929f08',\n",
        "  'client_secret': 'ae61e214f679558c28678d5c638c5725'\n",
        "}\n",
        "\n",
        "response = requests.post('https://sso-int.sbb.ch/auth/realms/SBB_Public/protocol/openid-connect/token', data=token_query).json()\n",
        "\n",
        "token = response[\"access_token\"]"
      ],
      "execution_count": null,
      "outputs": []
    },
    {
      "cell_type": "code",
      "metadata": {
        "colab": {
          "base_uri": "https://localhost:8080/"
        },
        "id": "ISFL9Tr7Jilf",
        "outputId": "bed04e8d-ac17-4a83-80e3-3e547006ef4c"
      },
      "source": [
        "conv_id = uuid.uuid4() #conversation Id\n",
        "print (\"current conversation id: \" + str(conv_id))"
      ],
      "execution_count": null,
      "outputs": [
        {
          "output_type": "stream",
          "name": "stdout",
          "text": [
            "current conversation id: 667defe5-704b-41ae-928a-278ecc4cfd35\n"
          ]
        }
      ]
    },
    {
      "cell_type": "code",
      "metadata": {
        "id": "mfQcMh-WfiIT"
      },
      "source": [
        "auth = {\n",
        "    'Authorization': f\"Bearer {token}\",\n",
        "    'X-Contract-Id': 'PLY223P',\n",
        "    'X-Conversation-Id': str(conv_id),\n",
        "}"
      ],
      "execution_count": null,
      "outputs": []
    },
    {
      "cell_type": "code",
      "metadata": {
        "colab": {
          "base_uri": "https://localhost:8080/"
        },
        "id": "YUEVKW7XdATd",
        "outputId": "82a7b688-7c23-42df-927d-059428467c83"
      },
      "source": [
        "#DIDOK search from name string\n",
        "\n",
        "stopName = '<enter stop name here>'\n",
        "\n",
        "query = { 'name' : stopName }\n",
        "\n",
        "stopsRequest = requests.get('https://b2p-int.api.sbb.ch/api/locations', headers=auth, params=query).json()\n",
        "\n",
        "print (json.dumps(stopsRequest, indent=2))"
      ],
      "execution_count": 114,
      "outputs": [
        {
          "output_type": "stream",
          "name": "stdout",
          "text": [
            "[\n",
            "  {\n",
            "    \"id\": 8504100,\n",
            "    \"name\": \"Fribourg/Freiburg\",\n",
            "    \"coordinates\": {\n",
            "      \"latitude\": 46.803272,\n",
            "      \"longitude\": 7.151027\n",
            "    },\n",
            "    \"type\": \"STATION\",\n",
            "    \"tariffBorder\": false,\n",
            "    \"weight\": 28697,\n",
            "    \"vehicleTypes\": [\n",
            "      \"TRAIN\"\n",
            "    ],\n",
            "    \"links\": []\n",
            "  },\n",
            "  {\n",
            "    \"id\": 8519133,\n",
            "    \"name\": \"Fribourg/Freiburg Poya\",\n",
            "    \"coordinates\": {\n",
            "      \"latitude\": 46.814706,\n",
            "      \"longitude\": 7.155431\n",
            "    },\n",
            "    \"type\": \"STATION\",\n",
            "    \"tariffBorder\": false,\n",
            "    \"weight\": 2296,\n",
            "    \"vehicleTypes\": [\n",
            "      \"BUS\",\n",
            "      \"TRAIN\"\n",
            "    ],\n",
            "    \"links\": []\n",
            "  },\n",
            "  {\n",
            "    \"id\": 8530013,\n",
            "    \"name\": \"Fribourg-Neuveville/Motta\",\n",
            "    \"coordinates\": {\n",
            "      \"latitude\": 46.803641,\n",
            "      \"longitude\": 7.158083\n",
            "    },\n",
            "    \"type\": \"STATION\",\n",
            "    \"tariffBorder\": false,\n",
            "    \"weight\": 789,\n",
            "    \"vehicleTypes\": [\n",
            "      \"CABLE\"\n",
            "    ],\n",
            "    \"links\": []\n",
            "  },\n",
            "  {\n",
            "    \"id\": 8530016,\n",
            "    \"name\": \"Fribourg-St-Pierre\",\n",
            "    \"coordinates\": {\n",
            "      \"latitude\": 46.804063,\n",
            "      \"longitude\": 7.156888\n",
            "    },\n",
            "    \"type\": \"STATION\",\n",
            "    \"tariffBorder\": false,\n",
            "    \"weight\": 789,\n",
            "    \"vehicleTypes\": [\n",
            "      \"CABLE\"\n",
            "    ],\n",
            "    \"links\": []\n",
            "  },\n",
            "  {\n",
            "    \"id\": 8589144,\n",
            "    \"name\": \"Fribourg, Arsent\",\n",
            "    \"coordinates\": {\n",
            "      \"latitude\": 46.8072,\n",
            "      \"longitude\": 7.17047\n",
            "    },\n",
            "    \"type\": \"STATION\",\n",
            "    \"tariffBorder\": false,\n",
            "    \"weight\": 593,\n",
            "    \"vehicleTypes\": [\n",
            "      \"BUS\"\n",
            "    ],\n",
            "    \"links\": []\n",
            "  },\n",
            "  {\n",
            "    \"id\": 8592365,\n",
            "    \"name\": \"Fribourg, Auge Sous-Pont\",\n",
            "    \"coordinates\": {\n",
            "      \"latitude\": 46.80685,\n",
            "      \"longitude\": 7.166695\n",
            "    },\n",
            "    \"type\": \"STATION\",\n",
            "    \"tariffBorder\": false,\n",
            "    \"weight\": 593,\n",
            "    \"vehicleTypes\": [\n",
            "      \"BUS\"\n",
            "    ],\n",
            "    \"links\": []\n",
            "  },\n",
            "  {\n",
            "    \"id\": 8589157,\n",
            "    \"name\": \"Fribourg, Beaumont-Centre\",\n",
            "    \"coordinates\": {\n",
            "      \"latitude\": 46.796162,\n",
            "      \"longitude\": 7.141921\n",
            "    },\n",
            "    \"type\": \"STATION\",\n",
            "    \"tariffBorder\": false,\n",
            "    \"weight\": 593,\n",
            "    \"vehicleTypes\": [\n",
            "      \"BUS\"\n",
            "    ],\n",
            "    \"links\": []\n",
            "  },\n",
            "  {\n",
            "    \"id\": 8589143,\n",
            "    \"name\": \"Fribourg, Beaumont-Est\",\n",
            "    \"coordinates\": {\n",
            "      \"latitude\": 46.796144,\n",
            "      \"longitude\": 7.143584\n",
            "    },\n",
            "    \"type\": \"STATION\",\n",
            "    \"tariffBorder\": false,\n",
            "    \"weight\": 593,\n",
            "    \"vehicleTypes\": [\n",
            "      \"BUS\"\n",
            "    ],\n",
            "    \"links\": []\n",
            "  },\n",
            "  {\n",
            "    \"id\": 8577784,\n",
            "    \"name\": \"Fribourg, Beauregard\",\n",
            "    \"coordinates\": {\n",
            "      \"latitude\": 46.802112,\n",
            "      \"longitude\": 7.146937\n",
            "    },\n",
            "    \"type\": \"STATION\",\n",
            "    \"tariffBorder\": false,\n",
            "    \"weight\": 593,\n",
            "    \"vehicleTypes\": [\n",
            "      \"BUS\"\n",
            "    ],\n",
            "    \"links\": []\n",
            "  },\n",
            "  {\n",
            "    \"id\": 8504622,\n",
            "    \"name\": \"Fribourg, Bellevue\",\n",
            "    \"coordinates\": {\n",
            "      \"latitude\": 46.810949,\n",
            "      \"longitude\": 7.171918\n",
            "    },\n",
            "    \"type\": \"STATION\",\n",
            "    \"tariffBorder\": false,\n",
            "    \"weight\": 593,\n",
            "    \"vehicleTypes\": [\n",
            "      \"BUS\"\n",
            "    ],\n",
            "    \"links\": []\n",
            "  }\n",
            "]\n"
          ]
        }
      ]
    },
    {
      "cell_type": "code",
      "metadata": {
        "id": "eUXc444MiTbP"
      },
      "source": [
        ""
      ],
      "execution_count": null,
      "outputs": []
    }
  ]
}