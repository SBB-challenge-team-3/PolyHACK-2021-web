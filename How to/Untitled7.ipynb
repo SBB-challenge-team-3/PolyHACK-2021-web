{
  "nbformat": 4,
  "nbformat_minor": 0,
  "metadata": {
    "colab": {
      "name": "Untitled7.ipynb",
      "provenance": [],
      "authorship_tag": "ABX9TyNp0CJ1dG1BnsP3Fh8Piiud",
      "include_colab_link": true
    },
    "kernelspec": {
      "name": "python3",
      "display_name": "Python 3"
    },
    "language_info": {
      "name": "python"
    }
  },
  "cells": [
    {
      "cell_type": "markdown",
      "metadata": {
        "id": "view-in-github",
        "colab_type": "text"
      },
      "source": [
        "<a href=\"https://colab.research.google.com/github/SBB-challenge-team-3/PolyHACK-2021/blob/main/How%20to/Untitled7.ipynb\" target=\"_parent\"><img src=\"https://colab.research.google.com/assets/colab-badge.svg\" alt=\"Open In Colab\"/></a>"
      ]
    },
    {
      "cell_type": "markdown",
      "metadata": {
        "id": "5y0qaZL6OtEU"
      },
      "source": [
        "This should describe how to retrieve data from the SBB B2P API\n"
      ]
    },
    {
      "cell_type": "code",
      "metadata": {
        "id": "wqXmagLiPGIO"
      },
      "source": [
        ""
      ],
      "execution_count": null,
      "outputs": []
    }
  ]
}